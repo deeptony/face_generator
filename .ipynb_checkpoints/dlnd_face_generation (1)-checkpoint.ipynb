{
 "cells": [
  {
   "cell_type": "markdown",
   "metadata": {
    "colab_type": "text",
    "id": "MC3aOeVtyh75"
   },
   "source": [
    "# Face Generation\n",
    "\n",
    "In this project, you'll define and train a DCGAN on a dataset of faces. Your goal is to get a generator network to generate *new* images of faces that look as realistic as possible!\n",
    "\n",
    "The project will be broken down into a series of tasks from **loading in data to defining and training adversarial networks**. At the end of the notebook, you'll be able to visualize the results of your trained Generator to see how it performs; your generated samples should look like fairly realistic faces with small amounts of noise.\n",
    "\n",
    "### Get the Data\n",
    "\n",
    "You'll be using the [CelebFaces Attributes Dataset (CelebA)](http://mmlab.ie.cuhk.edu.hk/projects/CelebA.html) to train your adversarial networks.\n",
    "\n",
    "This dataset is more complex than the number datasets (like MNIST or SVHN) you've been working with, and so, you should prepare to define deeper networks and train them for a longer time to get good results. It is suggested that you utilize a GPU for training.\n",
    "\n",
    "### Pre-processed Data\n",
    "\n",
    "Since the project's main focus is on building the GANs, we've done *some* of the pre-processing for you. Each of the CelebA images has been cropped to remove parts of the image that don't include a face, then resized down to 64x64x3 NumPy images. Some sample data is show below.\n",
    "\n",
    "<img src='assets/processed_face_data.png' width=60% />\n",
    "\n",
    "> If you are working locally, you can download this data [by clicking here](https://s3.amazonaws.com/video.udacity-data.com/topher/2018/November/5be7eb6f_processed-celeba-small/processed-celeba-small.zip)\n",
    "\n",
    "This is a zip file that you'll need to extract in the home directory of this notebook for further loading and processing. After extracting the data, you should be left with a directory of data `processed_celeba_small/`"
   ]
  },
  {
   "cell_type": "code",
   "execution_count": 13,
   "metadata": {
    "colab": {
     "base_uri": "https://localhost:8080/",
     "height": 35
    },
    "colab_type": "code",
    "id": "fSipJy850lSg",
    "outputId": "e5cfc064-ecfc-4064-91a6-d7b1389aa097"
   },
   "outputs": [
    {
     "data": {
      "text/plain": [
       "'/content/gdrive/My Drive/Colab Notebooks/GAN'"
      ]
     },
     "execution_count": 13,
     "metadata": {
      "tags": []
     },
     "output_type": "execute_result"
    }
   ],
   "source": [
    "os.getcwd()"
   ]
  },
  {
   "cell_type": "code",
   "execution_count": 15,
   "metadata": {
    "colab": {
     "base_uri": "https://localhost:8080/",
     "height": 328
    },
    "colab_type": "code",
    "id": "mHR1WnX50cH3",
    "outputId": "fc8a3717-ad8c-486e-a1a4-d0119e212870"
   },
   "outputs": [
    {
     "name": "stdout",
     "output_type": "stream",
     "text": [
      "total 242097\n",
      "-rw------- 1 root root    158002 Sep 27 22:23 dlnd_face_generation.ipynb\n",
      "drwx------ 2 root root      4096 Sep 27 22:16 __pycache__\n",
      "-rw------- 1 root root       974 Sep 27 22:12 Untitled0.ipynb\n",
      "-rw------- 1 root root     34213 Aug 23 21:09 MNIST.ipynb\n",
      "-rw------- 1 root root      3414 Aug 23 21:09 Generate_faces.ipynb\n",
      "drwx------ 2 root root      4096 Aug 12 20:56 __MACOSX\n",
      "drwx------ 3 root root      4096 Aug 12 20:56 processed_celeba_small\n",
      "-rw------- 1 root root 247694507 Aug 12 20:55 processed_celeba_small.zip\n",
      "-rw------- 1 root root      2113 May 21 13:01 problem_unittests.py\n",
      ".\n",
      "./processed_celeba_small\n",
      "./processed_celeba_small/celeba\n",
      "./processed_celeba_small/celeba/New Folder With Items\n",
      "./__MACOSX\n",
      "./__MACOSX/processed_celeba_small\n",
      "./__MACOSX/processed_celeba_small/celeba\n",
      "./__pycache__\n"
     ]
    }
   ],
   "source": [
    "%%bash\n",
    "ls -lt\n",
    "find -type d"
   ]
  },
  {
   "cell_type": "code",
   "execution_count": 1,
   "metadata": {
    "colab": {
     "base_uri": "https://localhost:8080/",
     "height": 141
    },
    "colab_type": "code",
    "id": "N469iHPuyjjA",
    "outputId": "71ea5211-43ec-4145-c6c0-ef027101ad17"
   },
   "outputs": [
    {
     "name": "stdout",
     "output_type": "stream",
     "text": [
      "Linux\n",
      "Go to this URL in a browser: https://accounts.google.com/o/oauth2/auth?client_id=947318989803-6bn6qk8qdgf4n4g3pfee6491hc0brc4i.apps.googleusercontent.com&redirect_uri=urn%3Aietf%3Awg%3Aoauth%3A2.0%3Aoob&scope=email%20https%3A%2F%2Fwww.googleapis.com%2Fauth%2Fdocs.test%20https%3A%2F%2Fwww.googleapis.com%2Fauth%2Fdrive%20https%3A%2F%2Fwww.googleapis.com%2Fauth%2Fdrive.photos.readonly%20https%3A%2F%2Fwww.googleapis.com%2Fauth%2Fpeopleapi.readonly&response_type=code\n",
      "\n",
      "Enter your authorization code:\n",
      "··········\n",
      "Mounted at /content/gdrive\n"
     ]
    }
   ],
   "source": [
    "import sys, os, platform, inspect\n",
    "\n",
    "def get_current_file_path():\n",
    "    # script filename (usually with path)\n",
    "    filename = inspect.getfile(inspect.currentframe())\n",
    "    # script directory\n",
    "    path = os.path.dirname(os.path.abspath(inspect.getfile(inspect.currentframe())))\n",
    "    return filename, path\n",
    "\n",
    "\n",
    "if platform.system() == 'Linux': # Colab setting\n",
    "    print('Linux')\n",
    "    from google.colab import drive\n",
    "    drive.mount('/content/gdrive')\n",
    "    path = '/content/gdrive/My Drive/Colab Notebooks/GAN'\n",
    "else:\n",
    "    _, path = get_current_file_path()    \n",
    "\n",
    "sys.path.insert(0, path)\n",
    "os.chdir(path)"
   ]
  },
  {
   "cell_type": "code",
   "execution_count": 0,
   "metadata": {
    "colab": {},
    "colab_type": "code",
    "id": "6TDqmSCvyh77"
   },
   "outputs": [],
   "source": [
    "# can comment out after executing\n",
    "#!unzip processed_celeba_small.zip"
   ]
  },
  {
   "cell_type": "code",
   "execution_count": 0,
   "metadata": {
    "colab": {},
    "colab_type": "code",
    "id": "FqWrjzQ3yh79"
   },
   "outputs": [],
   "source": [
    "# import workspace_utils"
   ]
  },
  {
   "cell_type": "code",
   "execution_count": 0,
   "metadata": {
    "colab": {},
    "colab_type": "code",
    "id": "ZzRgGz1syh7_"
   },
   "outputs": [],
   "source": [
    "data_dir = 'processed_celeba_small/'\n",
    "\n",
    "\"\"\"\n",
    "DON'T MODIFY ANYTHING IN THIS CELL\n",
    "\"\"\"\n",
    "import pickle as pkl\n",
    "import matplotlib.pyplot as plt\n",
    "import numpy as np\n",
    "import problem_unittests as tests\n",
    "#import helper\n",
    "\n",
    "%matplotlib inline"
   ]
  },
  {
   "cell_type": "markdown",
   "metadata": {
    "colab_type": "text",
    "id": "gpRcXL2Syh8B"
   },
   "source": [
    "## Visualize the CelebA Data\n",
    "\n",
    "The [CelebA](http://mmlab.ie.cuhk.edu.hk/projects/CelebA.html) dataset contains over 200,000 celebrity images with annotations. Since you're going to be generating faces, you won't need the annotations, you'll only need the images. Note that these are color images with [3 color channels (RGB)](https://en.wikipedia.org/wiki/Channel_(digital_image)#RGB_Images) each.\n",
    "\n",
    "### Pre-process and Load the Data\n",
    "\n",
    "Since the project's main focus is on building the GANs, we've done *some* of the pre-processing for you. Each of the CelebA images has been cropped to remove parts of the image that don't include a face, then resized down to 64x64x3 NumPy images. This *pre-processed* dataset is a smaller subset of the very large CelebA data.\n",
    "\n",
    "> There are a few other steps that you'll need to **transform** this data and create a **DataLoader**.\n",
    "\n",
    "#### Exercise: Complete the following `get_dataloader` function, such that it satisfies these requirements:\n",
    "\n",
    "* Your images should be square, Tensor images of size `image_size x image_size` in the x and y dimension.\n",
    "* Your function should return a DataLoader that shuffles and batches these Tensor images.\n",
    "\n",
    "#### ImageFolder\n",
    "\n",
    "To create a dataset given a directory of images, it's recommended that you use PyTorch's [ImageFolder](https://pytorch.org/docs/stable/torchvision/datasets.html#imagefolder) wrapper, with a root directory `processed_celeba_small/` and data transformation passed in."
   ]
  },
  {
   "cell_type": "code",
   "execution_count": 0,
   "metadata": {
    "colab": {},
    "colab_type": "code",
    "id": "8-rVZu5Pyh8B"
   },
   "outputs": [],
   "source": [
    "# necessary imports\n",
    "import torch\n",
    "from torch import utils\n",
    "from torchvision import datasets\n",
    "from torchvision import transforms"
   ]
  },
  {
   "cell_type": "code",
   "execution_count": 0,
   "metadata": {
    "colab": {},
    "colab_type": "code",
    "id": "dPIP7-5jyh8D"
   },
   "outputs": [],
   "source": [
    "def get_dataloader(batch_size, image_size, data_dir='./processed_celeba_small/celeba'):\n",
    "    \"\"\"\n",
    "    Batch the neural network data using DataLoader\n",
    "    :param batch_size: The size of each batch; the number of images in a batch\n",
    "    :param img_size: The square size of the image data (x, y)\n",
    "    :param data_dir: Directory where image data is located\n",
    "    :return: DataLoader with batched data\n",
    "    \"\"\"\n",
    "    \n",
    "    transform = transforms.Compose([\n",
    "        transforms.Resize(image_size),\n",
    "        transforms.CenterCrop(image_size),\n",
    "        transforms.ToTensor()\n",
    "    ])\n",
    "    \n",
    "    celeba_dataset = datasets.ImageFolder(data_dir, transform = transform)\n",
    "    \n",
    "    train_loader = utils.data.DataLoader(dataset = celeba_dataset, batch_size = batch_size, shuffle = True)\n",
    "    \n",
    "    # TODO: Implement function and return a dataloader\n",
    "    \n",
    "    return train_loader\n"
   ]
  },
  {
   "cell_type": "markdown",
   "metadata": {
    "colab_type": "text",
    "id": "YCI7w-H7yh8F"
   },
   "source": [
    "## Create a DataLoader\n",
    "\n",
    "#### Exercise: Create a DataLoader `celeba_train_loader` with appropriate hyperparameters.\n",
    "\n",
    "Call the above function and create a dataloader to view images. \n",
    "* You can decide on any reasonable `batch_size` parameter\n",
    "* Your `image_size` **must be** `32`. Resizing the data to a smaller size will make for faster training, while still creating convincing images of faces!"
   ]
  },
  {
   "cell_type": "code",
   "execution_count": 0,
   "metadata": {
    "colab": {},
    "colab_type": "code",
    "id": "PR6PgZYYyh8G"
   },
   "outputs": [],
   "source": [
    "# Define function hyperparameters\n",
    "batch_size = 64\n",
    "img_size = 32\n",
    "\n",
    "\"\"\"\n",
    "DON'T MODIFY ANYTHING IN THIS CELL THAT IS BELOW THIS LINE\n",
    "\"\"\"\n",
    "# Call your function and get a dataloader\n",
    "celeba_train_loader = get_dataloader(batch_size, img_size)\n"
   ]
  },
  {
   "cell_type": "markdown",
   "metadata": {
    "colab_type": "text",
    "id": "UViga50dyh8H"
   },
   "source": [
    "Next, you can view some images! You should seen square images of somewhat-centered faces.\n",
    "\n",
    "Note: You'll need to convert the Tensor images into a NumPy type and transpose the dimensions to correctly display an image, suggested `imshow` code is below, but it may not be perfect."
   ]
  },
  {
   "cell_type": "code",
   "execution_count": 0,
   "metadata": {
    "colab": {},
    "colab_type": "code",
    "id": "65_sC8aayh8I"
   },
   "outputs": [],
   "source": [
    "# helper display function\n",
    "def imshow(img):\n",
    "    npimg = img.numpy()\n",
    "    plt.imshow(np.transpose(npimg, (1, 2, 0)))"
   ]
  },
  {
   "cell_type": "code",
   "execution_count": 0,
   "metadata": {
    "colab": {},
    "colab_type": "code",
    "id": "5Aibjaboyh8J"
   },
   "outputs": [],
   "source": [
    "# obtain one batch of training images\n",
    "dataiter = iter(celeba_train_loader)\n",
    "images, _ = dataiter.next() # _ for no labels"
   ]
  },
  {
   "cell_type": "code",
   "execution_count": 63,
   "metadata": {
    "colab": {
     "base_uri": "https://localhost:8080/",
     "height": 251
    },
    "colab_type": "code",
    "id": "TCYyuHT4yh8M",
    "outputId": "ad9f598d-86ef-43ba-b07e-d845fc60fed0"
   },
   "outputs": [
    {
     "data": {
      "image/png": "[encoded data removed]",
      "text/plain": [
       "<Figure size 1440x288 with 20 Axes>"
      ]
     },
     "metadata": {
      "tags": []
     },
     "output_type": "display_data"
    }
   ],
   "source": [
    "\"\"\"\n",
    "DON'T MODIFY ANYTHING IN THIS CELL THAT IS BELOW THIS LINE\n",
    "\"\"\"\n",
    "# plot the images in the batch, along with the corresponding labels\n",
    "fig = plt.figure(figsize=(20, 4))\n",
    "plot_size=20\n",
    "for idx in np.arange(plot_size):\n",
    "    ax = fig.add_subplot(2, plot_size/2, idx+1, xticks=[], yticks=[])\n",
    "    imshow(images[idx])"
   ]
  },
  {
   "cell_type": "markdown",
   "metadata": {
    "colab_type": "text",
    "id": "aeKJHPAPyh8Q"
   },
   "source": [
    "#### Exercise: Pre-process your image data and scale it to a pixel range of -1 to 1\n",
    "\n",
    "You need to do a bit of pre-processing; you know that the output of a `tanh` activated generator will contain pixel values in a range from -1 to 1, and so, we need to rescale our training images to a range of -1 to 1. (Right now, they are in a range from 0-1.)"
   ]
  },
  {
   "cell_type": "code",
   "execution_count": 0,
   "metadata": {
    "colab": {},
    "colab_type": "code",
    "id": "JmvEGR61yh8Q"
   },
   "outputs": [],
   "source": [
    "# TODO: Complete the scale function\n",
    "def scale(x, feature_range=(-1, 1)):\n",
    "    ''' Scale takes in an image x and returns that image, scaled\n",
    "       with a feature_range of pixel values from -1 to 1. \n",
    "       This function assumes that the input x is already scaled from 0-1.'''\n",
    "    # assume x is scaled to (0, 1)\n",
    "    # scale to feature_range and return scaled x\n",
    "    x = x * (feature_range[1] - feature_range[0]) + feature_range[0]\n",
    "    return x\n"
   ]
  },
  {
   "cell_type": "code",
   "execution_count": 65,
   "metadata": {
    "colab": {
     "base_uri": "https://localhost:8080/",
     "height": 52
    },
    "colab_type": "code",
    "id": "P2n4JqNRyh8S",
    "outputId": "16843886-1046-47e2-8b64-877e041a139d"
   },
   "outputs": [
    {
     "name": "stdout",
     "output_type": "stream",
     "text": [
      "Min:  tensor(-0.9608)\n",
      "Max:  tensor(1.)\n"
     ]
    }
   ],
   "source": [
    "\"\"\"\n",
    "DON'T MODIFY ANYTHING IN THIS CELL THAT IS BELOW THIS LINE\n",
    "\"\"\"\n",
    "# check scaled range\n",
    "# should be close to -1 to 1\n",
    "img = images[0]\n",
    "scaled_img = scale(img)\n",
    "\n",
    "print('Min: ', scaled_img.min())\n",
    "print('Max: ', scaled_img.max())"
   ]
  },
  {
   "cell_type": "markdown",
   "metadata": {
    "colab_type": "text",
    "id": "CNQTNX1Cyh8U"
   },
   "source": [
    "---\n",
    "# Define the Model\n",
    "\n",
    "A GAN is comprised of two adversarial networks, a discriminator and a generator.\n",
    "\n",
    "## Discriminator\n",
    "\n",
    "Your first task will be to define the discriminator. This is a convolutional classifier like you've built before, only without any maxpooling layers. To deal with this complex data, it's suggested you use a deep network with **normalization**. You are also allowed to create any helper functions that may be useful.\n",
    "\n",
    "#### Exercise: Complete the Discriminator class\n",
    "* The inputs to the discriminator are 32x32x3 tensor images\n",
    "* The output should be a single value that will indicate whether a given image is real or fake\n"
   ]
  },
  {
   "cell_type": "code",
   "execution_count": 0,
   "metadata": {
    "colab": {},
    "colab_type": "code",
    "id": "yfVrPvz4yh8U"
   },
   "outputs": [],
   "source": [
    "import torch.nn as nn\n",
    "import torch.nn.functional as F"
   ]
  },
  {
   "cell_type": "code",
   "execution_count": 0,
   "metadata": {
    "colab": {},
    "colab_type": "code",
    "id": "Qf70m1k2yh8W"
   },
   "outputs": [],
   "source": [
    "def conv(in_channels, out_channels, kernel_size, stride=2, padding=1, batch_norm=True):\n",
    "    \n",
    "    layers = []\n",
    "    conv_layer = nn.Conv2d(in_channels, out_channels, kernel_size, stride, padding, bias=False)\n",
    "    \n",
    "    layers.append(conv_layer)\n",
    "    \n",
    "    if batch_norm:\n",
    "        layers.append(nn.BatchNorm2d(out_channels))\n",
    "    \n",
    "    return nn.Sequential(*layers)"
   ]
  },
  {
   "cell_type": "code",
   "execution_count": 67,
   "metadata": {
    "colab": {
     "base_uri": "https://localhost:8080/",
     "height": 35
    },
    "colab_type": "code",
    "id": "CnHBpv0-6qjq",
    "outputId": "b87124b2-bb44-42db-ce0c-950b80708128"
   },
   "outputs": [
    {
     "name": "stdout",
     "output_type": "stream",
     "text": [
      "Tests Passed\n"
     ]
    }
   ],
   "source": [
    "class Discriminator(nn.Module):\n",
    "\n",
    "    def __init__(self, conv_dim):\n",
    "        \"\"\"\n",
    "        Initialize the Discriminator Module\n",
    "        :param conv_dim: The depth of the first convolutional layer\n",
    "        \"\"\"\n",
    "        super(Discriminator, self).__init__()\n",
    "        \n",
    "        self.conv_dim = conv_dim\n",
    "\n",
    "        # complete init function\n",
    "        self.conv1 = nn.Conv2d(3, conv_dim, 4, stride=2, padding=1, bias=True)\n",
    "        self.conv2 = nn.Conv2d(conv_dim, 2 * conv_dim, 4, stride=2, padding=1, bias=False)\n",
    "        self.batchnorm2 = nn.BatchNorm2d(2 * conv_dim)\n",
    "        self.conv3 = nn.Conv2d(2 * conv_dim, 4 * conv_dim, 4, stride=2, padding=1, bias=False)\n",
    "        self.batchnorm3 = nn.BatchNorm2d(4 * conv_dim)\n",
    "        self.fc = nn.Linear(4 * 4 * 4 * conv_dim, 1)\n",
    "        \n",
    "    def forward(self, x):\n",
    "        \"\"\"\n",
    "        Forward propagation of the neural network\n",
    "        :param x: The input to the neural network     \n",
    "        :return: Discriminator logits; the output of the neural network\n",
    "        \"\"\"\n",
    "        # define feedforward behavior\n",
    "        \n",
    "        x = F.leaky_relu(self.conv1(x))\n",
    "        x = F.leaky_relu(self.batchnorm2(self.conv2(x)))\n",
    "        x = F.leaky_relu(self.batchnorm3(self.conv3(x)))\n",
    "        x = self.fc(x.view(-1, 4 * 4 * 4 * self.conv_dim))\n",
    "        return x\n",
    "\n",
    "\"\"\"\n",
    "DON'T MODIFY ANYTHING IN THIS CELL THAT IS BELOW THIS LINE\n",
    "\"\"\"\n",
    "tests.test_discriminator(Discriminator)"
   ]
  },
  {
   "cell_type": "code",
   "execution_count": 25,
   "metadata": {
    "colab": {
     "base_uri": "https://localhost:8080/",
     "height": 35
    },
    "colab_type": "code",
    "id": "MNOz8f2xyh8Y",
    "outputId": "c7c1a9d4-9af3-4374-fd97-3edcb790336a"
   },
   "outputs": [
    {
     "name": "stdout",
     "output_type": "stream",
     "text": [
      "Tests Passed\n"
     ]
    }
   ],
   "source": [
    "class Discriminator(nn.Module):\n",
    "\n",
    "    def __init__(self, conv_dim):\n",
    "        \"\"\"\n",
    "        Initialize the Discriminator Module\n",
    "        :param conv_dim: The depth of the first convolutional layer\n",
    "        \"\"\"\n",
    "        super(Discriminator, self).__init__()\n",
    "\n",
    "        # complete init function\n",
    "        self.conv_dim = conv_dim\n",
    "        \n",
    "        self.conv1 = conv(3, conv_dim, 4, batch_norm = False)\n",
    "        self.conv2 = conv(conv_dim, conv_dim * 2, 4)\n",
    "        self.conv3 = conv(conv_dim * 2, conv_dim * 4, 4)\n",
    "        \n",
    "        self.fc = nn.Linear(conv_dim * 4 * 4 * 4, 1)\n",
    "        \n",
    "\n",
    "    def forward(self, x):\n",
    "        \"\"\"\n",
    "        Forward propagation of the neural network\n",
    "        :param x: The input to the neural network     \n",
    "        :return: Discriminator logits; the output of the neural network\n",
    "        \"\"\"\n",
    "        # define feedforward behavior\n",
    "        \n",
    "        x = F.leaky_relu(self.conv1(x), 0.2)\n",
    "        x = F.leaky_relu(self.conv2(x), 0.2)\n",
    "        x = F.leaky_relu(self.conv3(x), 0.2)\n",
    "        \n",
    "        x = x.view(-1, self.conv_dim * 4 * 4 * 4 )\n",
    "        \n",
    "        x = self.fc(x)\n",
    "        \n",
    "        return x\n",
    "\n",
    "\n",
    "\"\"\"\n",
    "DON'T MODIFY ANYTHING IN THIS CELL THAT IS BELOW THIS LINE\n",
    "\"\"\"\n",
    "tests.test_discriminator(Discriminator)"
   ]
  },
  {
   "cell_type": "markdown",
   "metadata": {
    "colab_type": "text",
    "id": "vJszrjVMyh8Z"
   },
   "source": [
    "## Generator\n",
    "\n",
    "The generator should upsample an input and generate a *new* image of the same size as our training data `32x32x3`. This should be mostly transpose convolutional layers with normalization applied to the outputs.\n",
    "\n",
    "#### Exercise: Complete the Generator class\n",
    "* The inputs to the generator are vectors of some length `z_size`\n",
    "* The output should be a image of shape `32x32x3`"
   ]
  },
  {
   "cell_type": "code",
   "execution_count": 0,
   "metadata": {
    "colab": {},
    "colab_type": "code",
    "id": "X0sDWBLSyh8a"
   },
   "outputs": [],
   "source": [
    "def conv(in_channels, out_channels, kernel_size, stride=2, padding=1, batch_norm=True):\n",
    "    \n",
    "    layers = []\n",
    "    transp_conv_layer = nn.ConvTranspose2d(in_channels, out_channels, kernel_size, stride, padding, bias=False)\n",
    "    \n",
    "    layers.append(transp_conv_layer)\n",
    "    \n",
    "    if batch_norm:\n",
    "        layers.append(nn.BatchNorm2d(out_channels))\n",
    "    \n",
    "    return nn.Sequential(*layers)"
   ]
  },
  {
   "cell_type": "code",
   "execution_count": 68,
   "metadata": {
    "colab": {
     "base_uri": "https://localhost:8080/",
     "height": 35
    },
    "colab_type": "code",
    "id": "28mdETUy6w5g",
    "outputId": "41f3f31e-86e7-40da-9261-3524c3ee3ec4"
   },
   "outputs": [
    {
     "name": "stdout",
     "output_type": "stream",
     "text": [
      "Tests Passed\n"
     ]
    }
   ],
   "source": [
    "class Generator(nn.Module):\n",
    "    \n",
    "    def __init__(self, z_size, conv_dim):\n",
    "        \"\"\"\n",
    "        Initialize the Generator Module\n",
    "        :param z_size: The length of the input latent vector, z\n",
    "        :param conv_dim: The depth of the inputs to the *last* transpose convolutional layer\n",
    "        \"\"\"\n",
    "        super(Generator, self).__init__()\n",
    "\n",
    "        # complete init function\n",
    "        \n",
    "        self.conv_dim = conv_dim\n",
    "        \n",
    "        self.fc = nn.Linear(z_size, 4 * 4 * 4 * conv_dim)\n",
    "        self.deconv1 = nn.ConvTranspose2d(4 * conv_dim, 2 * conv_dim, kernel_size=4, padding=1, stride=2)\n",
    "        self.batchnorm1 = nn.BatchNorm2d(2 * conv_dim)\n",
    "        self.deconv2 = nn.ConvTranspose2d(2 * conv_dim, conv_dim, kernel_size=4, padding=1, stride=2)\n",
    "        self.batchnorm2 = nn.BatchNorm2d(conv_dim)\n",
    "        self.deconv3 = nn.ConvTranspose2d(conv_dim, 3, kernel_size=4, padding=1, stride=2)\n",
    "        \n",
    "    def forward(self, x):\n",
    "        \"\"\"\n",
    "        Forward propagation of the neural network\n",
    "        :param x: The input to the neural network     \n",
    "        :return: A 32x32x3 Tensor image as output\n",
    "        \"\"\"\n",
    "        # define feedforward behavior\n",
    "        x = self.fc(x)\n",
    "        x = x.view(-1, 4 * self.conv_dim, 4, 4)\n",
    "        x = F.relu(self.batchnorm1(self.deconv1(x)))\n",
    "        x = F.relu(self.batchnorm2(self.deconv2(x)))\n",
    "        x = torch.tanh(self.deconv3(x)) \n",
    "        \n",
    "        return x\n",
    "\n",
    "\"\"\"\n",
    "DON'T MODIFY ANYTHING IN THIS CELL THAT IS BELOW THIS LINE\n",
    "\"\"\"\n",
    "tests.test_generator(Generator)"
   ]
  },
  {
   "cell_type": "code",
   "execution_count": 28,
   "metadata": {
    "colab": {
     "base_uri": "https://localhost:8080/",
     "height": 35
    },
    "colab_type": "code",
    "id": "suw2Qsh8yh8b",
    "outputId": "d9bbb61d-7545-4632-af74-90c69e3f6df2"
   },
   "outputs": [
    {
     "name": "stdout",
     "output_type": "stream",
     "text": [
      "Tests Passed\n"
     ]
    }
   ],
   "source": [
    "class Generator(nn.Module):\n",
    "    \n",
    "    def __init__(self, z_size, conv_dim):\n",
    "        \"\"\"\n",
    "        Initialize the Generator Module\n",
    "        :param z_size: The length of the input latent vector, z\n",
    "        :param conv_dim: The depth of the inputs to the *last* transpose convolutional layer\n",
    "        \"\"\"\n",
    "        super(Generator, self).__init__()\n",
    "\n",
    "        # complete init function\n",
    "        \n",
    "        self.conv_dim = conv_dim\n",
    "        \n",
    "        self.fc = nn.Linear(z_size, conv_dim * 4 * 4 * 4)\n",
    "        \n",
    "        self.tconv1 = conv(conv_dim * 4, conv_dim * 2, 4)\n",
    "        self.tconv2 = conv(conv_dim * 2, conv_dim, 4)\n",
    "        self.tconv3 = conv(conv_dim, 3, 4, batch_norm = False)\n",
    "        \n",
    "        \n",
    "\n",
    "    def forward(self, x):\n",
    "        \"\"\"\n",
    "        Forward propagation of the neural network\n",
    "        :param x: The input to the neural network     \n",
    "        :return: A 32x32x3 Tensor image as output\n",
    "        \"\"\"\n",
    "        # define feedforward behavior\n",
    "        \n",
    "        x = self.fc(x)\n",
    "        x = x.view(-1, self.conv_dim*4, 4, 4)\n",
    "        \n",
    "        x = F.relu(self.tconv1(x))\n",
    "        x = F.relu(self.tconv2(x))\n",
    "        \n",
    "        x = self.tconv3(x)\n",
    "        x = torch.tanh(x)\n",
    "        \n",
    "        return x\n",
    "\n",
    "\"\"\"\n",
    "DON'T MODIFY ANYTHING IN THIS CELL THAT IS BELOW THIS LINE\n",
    "\"\"\"\n",
    "tests.test_generator(Generator)"
   ]
  },
  {
   "cell_type": "markdown",
   "metadata": {
    "colab_type": "text",
    "id": "sQbZSc1Wyh8d"
   },
   "source": [
    "## Initialize the weights of your networks\n",
    "\n",
    "To help your models converge, you should initialize the weights of the convolutional and linear layers in your model. From reading the [original DCGAN paper](https://arxiv.org/pdf/1511.06434.pdf), they say:\n",
    "> All weights were initialized from a zero-centered Normal distribution with standard deviation 0.02.\n",
    "\n",
    "So, your next task will be to define a weight initialization function that does just this!\n",
    "\n",
    "You can refer back to the lesson on weight initialization or even consult existing model code, such as that from [the `networks.py` file in CycleGAN Github repository](https://github.com/junyanz/pytorch-CycleGAN-and-pix2pix/blob/master/models/networks.py) to help you complete this function.\n",
    "\n",
    "#### Exercise: Complete the weight initialization function\n",
    "\n",
    "* This should initialize only **convolutional** and **linear** layers\n",
    "* Initialize the weights to a normal distribution, centered around 0, with a standard deviation of 0.02.\n",
    "* The bias terms, if they exist, may be left alone or set to 0."
   ]
  },
  {
   "cell_type": "code",
   "execution_count": 0,
   "metadata": {
    "colab": {},
    "colab_type": "code",
    "id": "jxapvkaqyh8e"
   },
   "outputs": [],
   "source": [
    "def weights_init_normal(m, init_gain):\n",
    "    \"\"\"\n",
    "    Applies initial weights to certain layers in a model .\n",
    "    The weights are taken from a normal distribution \n",
    "    with mean = 0, std dev = 0.02.\n",
    "    :param m: A module or layer in a network    \n",
    "    \"\"\"\n",
    "    # classname will be something like:\n",
    "    # `Conv`, `BatchNorm2d`, `Linear`, etc.\n",
    "    classname = m.__class__.__name__\n",
    "    \n",
    "    # TODO: Apply initial weights to convolutional and linear layers\n",
    "    \n",
    "    if hasattr(m, 'weight') and (classname.find('Conv') != -1 or classname.find('Linear') != -1):\n",
    "        init.normal_(m.weight.data, 0.0, init_gain)\n",
    "        if hasattr(m, 'bias') and m.bias is not None:\n",
    "            m.bias.data.zero_()\n",
    "    elif classname.find('BatchNorm2d') != -1:  # BatchNorm Layer's weight is not a matrix; only normal distribution applies.\n",
    "        init.normal_(m.weight.data, 1.0, init_gain)\n",
    "        init.constant_(m.bias.data, 0.0)\n",
    "    "
   ]
  },
  {
   "cell_type": "markdown",
   "metadata": {
    "colab_type": "text",
    "collapsed": true,
    "id": "KVYz84Ueyh8g"
   },
   "source": [
    "## Build complete network\n",
    "\n",
    "Define your models' hyperparameters and instantiate the discriminator and generator from the classes defined above. Make sure you've passed in the correct input arguments."
   ]
  },
  {
   "cell_type": "code",
   "execution_count": 0,
   "metadata": {
    "colab": {},
    "colab_type": "code",
    "id": "Dhkttprzyh8g"
   },
   "outputs": [],
   "source": [
    "from torch.nn import init"
   ]
  },
  {
   "cell_type": "code",
   "execution_count": 0,
   "metadata": {
    "colab": {},
    "colab_type": "code",
    "id": "vf1fXVdayh8j"
   },
   "outputs": [],
   "source": [
    "\"\"\"\n",
    "DON'T MODIFY ANYTHING IN THIS CELL THAT IS BELOW THIS LINE\n",
    "\"\"\"\n",
    "def build_network(d_conv_dim, g_conv_dim, z_size, init_gain):\n",
    "    # define discriminator and generator\n",
    "    D = Discriminator(d_conv_dim)\n",
    "    G = Generator(z_size=z_size, conv_dim=g_conv_dim)\n",
    "\n",
    "    # initialize model weights\n",
    "    weights_init_normal(D, init_gain)\n",
    "    weights_init_normal(G, init_gain)\n",
    "\n",
    "    print(D)\n",
    "    print()\n",
    "    print(G)\n",
    "    \n",
    "    return D, G\n"
   ]
  },
  {
   "cell_type": "markdown",
   "metadata": {
    "colab_type": "text",
    "id": "OzxIJ4MByh8p"
   },
   "source": [
    "#### Exercise: Define model hyperparameters"
   ]
  },
  {
   "cell_type": "code",
   "execution_count": 74,
   "metadata": {
    "colab": {
     "base_uri": "https://localhost:8080/",
     "height": 311
    },
    "colab_type": "code",
    "id": "TWyb-GSxyh8p",
    "outputId": "66d11180-36f5-4cca-97ac-34e707fc81aa"
   },
   "outputs": [
    {
     "name": "stdout",
     "output_type": "stream",
     "text": [
      "Discriminator(\n",
      "  (conv1): Conv2d(3, 128, kernel_size=(4, 4), stride=(2, 2), padding=(1, 1))\n",
      "  (conv2): Conv2d(128, 256, kernel_size=(4, 4), stride=(2, 2), padding=(1, 1), bias=False)\n",
      "  (batchnorm2): BatchNorm2d(256, eps=1e-05, momentum=0.1, affine=True, track_running_stats=True)\n",
      "  (conv3): Conv2d(256, 512, kernel_size=(4, 4), stride=(2, 2), padding=(1, 1), bias=False)\n",
      "  (batchnorm3): BatchNorm2d(512, eps=1e-05, momentum=0.1, affine=True, track_running_stats=True)\n",
      "  (fc): Linear(in_features=8192, out_features=1, bias=True)\n",
      ")\n",
      "\n",
      "Generator(\n",
      "  (fc): Linear(in_features=100, out_features=8192, bias=True)\n",
      "  (deconv1): ConvTranspose2d(512, 256, kernel_size=(4, 4), stride=(2, 2), padding=(1, 1))\n",
      "  (batchnorm1): BatchNorm2d(256, eps=1e-05, momentum=0.1, affine=True, track_running_stats=True)\n",
      "  (deconv2): ConvTranspose2d(256, 128, kernel_size=(4, 4), stride=(2, 2), padding=(1, 1))\n",
      "  (batchnorm2): BatchNorm2d(128, eps=1e-05, momentum=0.1, affine=True, track_running_stats=True)\n",
      "  (deconv3): ConvTranspose2d(128, 3, kernel_size=(4, 4), stride=(2, 2), padding=(1, 1))\n",
      ")\n"
     ]
    }
   ],
   "source": [
    "## Define model hyperparams\n",
    "d_conv_dim = 128\n",
    "g_conv_dim = 128\n",
    "z_size = 100\n",
    "init_gain = 0.02\n",
    "\n",
    "\"\"\"\n",
    "DON'T MODIFY ANYTHING IN THIS CELL THAT IS BELOW THIS LINE\n",
    "\"\"\"\n",
    "D, G = build_network(d_conv_dim, g_conv_dim, z_size, init_gain)"
   ]
  },
  {
   "cell_type": "markdown",
   "metadata": {
    "colab_type": "text",
    "id": "K7YbqXBuyh8r"
   },
   "source": [
    "### Training on GPU\n",
    "\n",
    "Check if you can train on GPU. Here, we'll set this as a boolean variable `train_on_gpu`. Later, you'll be responsible for making sure that \n",
    ">* Models,\n",
    "* Model inputs, and\n",
    "* Loss function arguments\n",
    "\n",
    "Are moved to GPU, where appropriate."
   ]
  },
  {
   "cell_type": "code",
   "execution_count": 75,
   "metadata": {
    "colab": {
     "base_uri": "https://localhost:8080/",
     "height": 35
    },
    "colab_type": "code",
    "id": "N6zebGQYyh8r",
    "outputId": "1fff1d2b-e6ec-4615-e842-cea0dbbc081c"
   },
   "outputs": [
    {
     "name": "stdout",
     "output_type": "stream",
     "text": [
      "Training on GPU!\n"
     ]
    }
   ],
   "source": [
    "\"\"\"\n",
    "DON'T MODIFY ANYTHING IN THIS CELL\n",
    "\"\"\"\n",
    "import torch\n",
    "\n",
    "# Check for a GPU\n",
    "train_on_gpu = torch.cuda.is_available()\n",
    "if not train_on_gpu:\n",
    "    print('No GPU found. Please use a GPU to train your neural network.')\n",
    "else:\n",
    "    print('Training on GPU!')"
   ]
  },
  {
   "cell_type": "markdown",
   "metadata": {
    "colab_type": "text",
    "id": "POsn73zXyh8u"
   },
   "source": [
    "---\n",
    "## Discriminator and Generator Losses\n",
    "\n",
    "Now we need to calculate the losses for both types of adversarial networks.\n",
    "\n",
    "### Discriminator Losses\n",
    "\n",
    "> * For the discriminator, the total loss is the sum of the losses for real and fake images, `d_loss = d_real_loss + d_fake_loss`. \n",
    "* Remember that we want the discriminator to output 1 for real images and 0 for fake images, so we need to set up the losses to reflect that.\n",
    "\n",
    "\n",
    "### Generator Loss\n",
    "\n",
    "The generator loss will look similar only with flipped labels. The generator's goal is to get the discriminator to *think* its generated images are *real*.\n",
    "\n",
    "#### Exercise: Complete real and fake loss functions\n",
    "\n",
    "**You may choose to use either cross entropy or a least squares error loss to complete the following `real_loss` and `fake_loss` functions.**"
   ]
  },
  {
   "cell_type": "code",
   "execution_count": 0,
   "metadata": {
    "colab": {},
    "colab_type": "code",
    "id": "HA5J3ZNdyh8u"
   },
   "outputs": [],
   "source": [
    "def real_loss(D_out, smooth = False):\n",
    "    '''Calculates how close discriminator outputs are to being real.\n",
    "       param, D_out: discriminator logits\n",
    "       return: real loss'''\n",
    "    batch_size = D_out.size(0)\n",
    "    \n",
    "    labels = torch.ones(batch_size) * 0.9\n",
    "   \n",
    "    \n",
    "    if train_on_gpu:\n",
    "        labels = labels.cuda()\n",
    "    \n",
    "    criterion = nn.BCEWithLogitsLoss()\n",
    "    loss = criterion(D_out.squeeze(), labels)\n",
    "    return loss\n",
    "\n",
    "def fake_loss(D_out):\n",
    "    '''Calculates how close discriminator outputs are to being fake.\n",
    "       param, D_out: discriminator logits\n",
    "       return: fake loss'''\n",
    "    \n",
    "    batch_size = D_out.size(0)\n",
    "    labels = torch.zeros(batch_size)\n",
    "    if train_on_gpu:\n",
    "        labels = labels.cuda()\n",
    "    criterion = nn.BCEWithLogitsLoss()\n",
    "    loss = criterion(D_out.squeeze(), labels)\n",
    "    return loss"
   ]
  },
  {
   "cell_type": "markdown",
   "metadata": {
    "colab_type": "text",
    "id": "deLLrw-dyh8x"
   },
   "source": [
    "## Optimizers\n",
    "\n",
    "#### Exercise: Define optimizers for your Discriminator (D) and Generator (G)\n",
    "\n",
    "Define optimizers for your models with appropriate hyperparameters."
   ]
  },
  {
   "cell_type": "code",
   "execution_count": 0,
   "metadata": {
    "colab": {},
    "colab_type": "code",
    "id": "GGAx8tlmyh8x"
   },
   "outputs": [],
   "source": [
    "import torch.optim as optim\n",
    "\n",
    "lr = 0.0005\n",
    "\n",
    "\n",
    "# Create optimizers for the discriminator D and generator G\n",
    "d_optimizer = optim.Adam(D.parameters(), lr, betas = (0.5, 0.999))\n",
    "g_optimizer = optim.Adam(G.parameters(), lr, betas = (0.5, 0.999))"
   ]
  },
  {
   "cell_type": "markdown",
   "metadata": {
    "colab_type": "text",
    "id": "81xYH8jsyh8z"
   },
   "source": [
    "---\n",
    "## Training\n",
    "\n",
    "Training will involve alternating between training the discriminator and the generator. You'll use your functions `real_loss` and `fake_loss` to help you calculate the discriminator losses.\n",
    "\n",
    "* You should train the discriminator by alternating on real and fake images\n",
    "* Then the generator, which tries to trick the discriminator and should have an opposing loss function\n",
    "\n",
    "\n",
    "#### Saving Samples\n",
    "\n",
    "You've been given some code to print out some loss statistics and save some generated \"fake\" samples."
   ]
  },
  {
   "cell_type": "markdown",
   "metadata": {
    "colab_type": "text",
    "id": "r_P2jUGAyh8z"
   },
   "source": [
    "#### Exercise: Complete the training function\n",
    "\n",
    "Keep in mind that, if you've moved your models to GPU, you'll also have to move any model inputs to GPU."
   ]
  },
  {
   "cell_type": "code",
   "execution_count": 0,
   "metadata": {
    "colab": {},
    "colab_type": "code",
    "id": "wa3iKRVkyh80"
   },
   "outputs": [],
   "source": [
    "def train(D, G, n_epochs, print_every=50):\n",
    "    '''Trains adversarial networks for some number of epochs\n",
    "       param, D: the discriminator network\n",
    "       param, G: the generator network\n",
    "       param, n_epochs: number of epochs to train for\n",
    "       param, print_every: when to print and record the models' losses\n",
    "       return: D and G losses'''\n",
    "    \n",
    "    # move models to GPU\n",
    "    if train_on_gpu:\n",
    "        print('training the models on GPU')\n",
    "        D.cuda()\n",
    "        G.cuda()\n",
    "\n",
    "    # keep track of loss and generated, \"fake\" samples\n",
    "    samples = []\n",
    "    losses = []\n",
    "\n",
    "    # Get some fixed data for sampling. These are images that are held\n",
    "    # constant throughout training, and allow us to inspect the model's performance\n",
    "    sample_size=16\n",
    "    fixed_z = np.random.uniform(-1, 1, size=(sample_size, z_size))\n",
    "    fixed_z = torch.from_numpy(fixed_z).float()\n",
    "    # move z to GPU if available\n",
    "    if train_on_gpu:\n",
    "        fixed_z = fixed_z.cuda()\n",
    "\n",
    "    # epoch training loop\n",
    "    for epoch in range(n_epochs):\n",
    "\n",
    "        # batch training loop\n",
    "        for batch_i, (real_images, _) in enumerate(celeba_train_loader):\n",
    "\n",
    "            batch_size = real_images.size(0)\n",
    "            real_images = scale(real_images)\n",
    "            # real_images = torch.from_numpy(real_images).float()\n",
    "\n",
    "            # ===============================================\n",
    "            #         YOUR CODE HERE: TRAIN THE NETWORKS\n",
    "            # ===============================================\n",
    "            \n",
    "            # 1. Train the discriminator on real and fake images\n",
    "            d_optimizer.zero_grad()\n",
    "            if train_on_gpu:\n",
    "                real_images = real_images.cuda()\n",
    "            #running real images through D and getting loss\n",
    "            D_real = D(real_images)\n",
    "            d_real_loss = real_loss(D_real)\n",
    "            #generating latent variable, z\n",
    "            z = np.random.uniform(-1, 1, size = ( batch_size, z_size))\n",
    "            z = torch.from_numpy(z).float()\n",
    "            if train_on_gpu:\n",
    "                z = z.cuda()\n",
    "            #running fake images through D and getting loss\n",
    "            fake_images = G(z)\n",
    "            if train_on_gpu:\n",
    "                fake_images = fake_images.cuda()\n",
    "            D_fake = D(fake_images)\n",
    "            d_fake_loss = fake_loss(D_fake)\n",
    "            #getting total loss for D\n",
    "            d_loss = d_real_loss + d_fake_loss\n",
    "            d_loss.backward()\n",
    "            d_optimizer.step()\n",
    "\n",
    "            # 2. Train the generator with an adversarial loss\n",
    "            g_optimizer.zero_grad()\n",
    "            z = np.random.uniform(-1, 1, size = ( batch_size, z_size))\n",
    "            z = torch.from_numpy(z).float()\n",
    "            if train_on_gpu:\n",
    "                z = z.cuda()\n",
    "            fake_images = G(z)\n",
    "            if train_on_gpu:\n",
    "                fake_images = fake_images.cuda()\n",
    "            D_fake = D(fake_images)\n",
    "            g_loss = real_loss(D_fake)\n",
    "            g_loss.backward()\n",
    "            g_optimizer.step()\n",
    "            # ===============================================\n",
    "            #              END OF YOUR CODE\n",
    "            # ===============================================\n",
    "\n",
    "            # Print some loss stats\n",
    "            if batch_i % print_every == 0:\n",
    "                # append discriminator loss and generator loss\n",
    "                losses.append((d_loss.item(), g_loss.item()))\n",
    "                print(f'memory allocated {torch.cuda.memory_allocated()/1e9:.2f} Giga-bytes')\n",
    "                print(f'memory allocated {torch.cuda.memory_cached()/1e9:.2f} Giga-bytes')\n",
    "                # print discriminator and generator loss\n",
    "                print('Epoch [{:5d}/{:5d}] | d_loss: {:6.4f} | g_loss: {:6.4f}'.format(\n",
    "                        epoch+1, n_epochs, d_loss.item(), g_loss.item()))\n",
    "\n",
    "\n",
    "        ## AFTER EACH EPOCH##    \n",
    "        # this code assumes your generator is named G, feel free to change the name\n",
    "        # generate and save sample, fake images\n",
    "        G.eval() # for generating samples\n",
    "        samples_z = G(fixed_z)\n",
    "        samples.append(samples_z)\n",
    "        G.train() # back to training mode\n",
    "\n",
    "    # Save training generator samples\n",
    "    with open('train_samples.pkl', 'wb') as f:\n",
    "        pkl.dump(samples, f)\n",
    "    \n",
    "    # finally return losses\n",
    "    return losses"
   ]
  },
  {
   "cell_type": "code",
   "execution_count": 0,
   "metadata": {
    "colab": {},
    "colab_type": "code",
    "id": "3UCVgp3Cyh82"
   },
   "outputs": [],
   "source": [
    "# from workspace_utils import active_session"
   ]
  },
  {
   "cell_type": "markdown",
   "metadata": {
    "colab_type": "text",
    "id": "7znu9ETiyh84"
   },
   "source": [
    "Set your number of training epochs and train your GAN!"
   ]
  },
  {
   "cell_type": "code",
   "execution_count": 80,
   "metadata": {
    "colab": {
     "base_uri": "https://localhost:8080/",
     "height": 1000
    },
    "colab_type": "code",
    "id": "lMGJC00syh84",
    "outputId": "a4a7cdfe-f7b3-41d2-88e3-084c81a2cb77"
   },
   "outputs": [
    {
     "name": "stdout",
     "output_type": "stream",
     "text": [
      "training the models on GPU\n",
      "memory allocated 0.11 Giga-bytes\n",
      "memory allocated 8.52 Giga-bytes\n",
      "Epoch [    1/   15] | d_loss: 1.4530 | g_loss: 1.9246\n",
      "memory allocated 0.11 Giga-bytes\n",
      "memory allocated 8.52 Giga-bytes\n",
      "Epoch [    1/   15] | d_loss: 1.3569 | g_loss: 2.4336\n",
      "memory allocated 0.11 Giga-bytes\n",
      "memory allocated 8.52 Giga-bytes\n",
      "Epoch [    1/   15] | d_loss: 1.2983 | g_loss: 0.7752\n",
      "memory allocated 0.11 Giga-bytes\n",
      "memory allocated 8.52 Giga-bytes\n",
      "Epoch [    1/   15] | d_loss: 1.1218 | g_loss: 1.4366\n",
      "memory allocated 0.11 Giga-bytes\n",
      "memory allocated 8.52 Giga-bytes\n",
      "Epoch [    1/   15] | d_loss: 1.0075 | g_loss: 1.6913\n",
      "memory allocated 0.11 Giga-bytes\n",
      "memory allocated 8.52 Giga-bytes\n",
      "Epoch [    1/   15] | d_loss: 1.1432 | g_loss: 1.1759\n",
      "memory allocated 0.11 Giga-bytes\n",
      "memory allocated 8.52 Giga-bytes\n",
      "Epoch [    1/   15] | d_loss: 1.1623 | g_loss: 1.0326\n",
      "memory allocated 0.11 Giga-bytes\n",
      "memory allocated 8.52 Giga-bytes\n",
      "Epoch [    1/   15] | d_loss: 0.9747 | g_loss: 0.9752\n",
      "memory allocated 0.11 Giga-bytes\n",
      "memory allocated 8.52 Giga-bytes\n",
      "Epoch [    1/   15] | d_loss: 0.9104 | g_loss: 1.9417\n",
      "memory allocated 0.11 Giga-bytes\n",
      "memory allocated 8.52 Giga-bytes\n",
      "Epoch [    1/   15] | d_loss: 1.1182 | g_loss: 2.5574\n",
      "memory allocated 0.12 Giga-bytes\n",
      "memory allocated 8.52 Giga-bytes\n",
      "Epoch [    2/   15] | d_loss: 1.3320 | g_loss: 2.3852\n",
      "memory allocated 0.12 Giga-bytes\n",
      "memory allocated 8.52 Giga-bytes\n",
      "Epoch [    2/   15] | d_loss: 0.8696 | g_loss: 1.8250\n",
      "memory allocated 0.12 Giga-bytes\n",
      "memory allocated 8.52 Giga-bytes\n",
      "Epoch [    2/   15] | d_loss: 0.7481 | g_loss: 1.7691\n",
      "memory allocated 0.12 Giga-bytes\n",
      "memory allocated 8.52 Giga-bytes\n",
      "Epoch [    2/   15] | d_loss: 1.0317 | g_loss: 2.5348\n",
      "memory allocated 0.12 Giga-bytes\n",
      "memory allocated 8.52 Giga-bytes\n",
      "Epoch [    2/   15] | d_loss: 0.5614 | g_loss: 2.6356\n",
      "memory allocated 0.12 Giga-bytes\n",
      "memory allocated 8.52 Giga-bytes\n",
      "Epoch [    2/   15] | d_loss: 1.0133 | g_loss: 3.0025\n",
      "memory allocated 0.12 Giga-bytes\n",
      "memory allocated 8.52 Giga-bytes\n",
      "Epoch [    2/   15] | d_loss: 0.7368 | g_loss: 2.9104\n",
      "memory allocated 0.12 Giga-bytes\n",
      "memory allocated 8.52 Giga-bytes\n",
      "Epoch [    2/   15] | d_loss: 0.7246 | g_loss: 1.5311\n",
      "memory allocated 0.12 Giga-bytes\n",
      "memory allocated 8.52 Giga-bytes\n",
      "Epoch [    2/   15] | d_loss: 0.7590 | g_loss: 2.1622\n",
      "memory allocated 0.12 Giga-bytes\n",
      "memory allocated 8.52 Giga-bytes\n",
      "Epoch [    2/   15] | d_loss: 0.4752 | g_loss: 2.9940\n",
      "memory allocated 0.13 Giga-bytes\n",
      "memory allocated 8.52 Giga-bytes\n",
      "Epoch [    3/   15] | d_loss: 0.7449 | g_loss: 3.8424\n",
      "memory allocated 0.13 Giga-bytes\n",
      "memory allocated 8.52 Giga-bytes\n",
      "Epoch [    3/   15] | d_loss: 0.4164 | g_loss: 4.8274\n",
      "memory allocated 0.13 Giga-bytes\n",
      "memory allocated 8.52 Giga-bytes\n",
      "Epoch [    3/   15] | d_loss: 0.9413 | g_loss: 1.9518\n",
      "memory allocated 0.13 Giga-bytes\n",
      "memory allocated 8.52 Giga-bytes\n",
      "Epoch [    3/   15] | d_loss: 0.7744 | g_loss: 2.2866\n",
      "memory allocated 0.13 Giga-bytes\n",
      "memory allocated 8.52 Giga-bytes\n",
      "Epoch [    3/   15] | d_loss: 0.6570 | g_loss: 1.9768\n",
      "memory allocated 0.13 Giga-bytes\n",
      "memory allocated 8.52 Giga-bytes\n",
      "Epoch [    3/   15] | d_loss: 0.4272 | g_loss: 3.4091\n",
      "memory allocated 0.13 Giga-bytes\n",
      "memory allocated 8.52 Giga-bytes\n",
      "Epoch [    3/   15] | d_loss: 0.7067 | g_loss: 2.1882\n",
      "memory allocated 0.13 Giga-bytes\n",
      "memory allocated 8.52 Giga-bytes\n",
      "Epoch [    3/   15] | d_loss: 0.8443 | g_loss: 2.7356\n",
      "memory allocated 0.13 Giga-bytes\n",
      "memory allocated 8.52 Giga-bytes\n",
      "Epoch [    3/   15] | d_loss: 0.5513 | g_loss: 3.1915\n",
      "memory allocated 0.13 Giga-bytes\n",
      "memory allocated 8.52 Giga-bytes\n",
      "Epoch [    3/   15] | d_loss: 0.4812 | g_loss: 2.1704\n",
      "memory allocated 0.14 Giga-bytes\n",
      "memory allocated 8.52 Giga-bytes\n",
      "Epoch [    4/   15] | d_loss: 0.7892 | g_loss: 2.4428\n",
      "memory allocated 0.14 Giga-bytes\n",
      "memory allocated 8.52 Giga-bytes\n",
      "Epoch [    4/   15] | d_loss: 0.8824 | g_loss: 4.4389\n",
      "memory allocated 0.14 Giga-bytes\n",
      "memory allocated 8.52 Giga-bytes\n",
      "Epoch [    4/   15] | d_loss: 0.5047 | g_loss: 2.3738\n",
      "memory allocated 0.14 Giga-bytes\n",
      "memory allocated 8.52 Giga-bytes\n",
      "Epoch [    4/   15] | d_loss: 1.3318 | g_loss: 3.1551\n",
      "memory allocated 0.14 Giga-bytes\n",
      "memory allocated 8.52 Giga-bytes\n",
      "Epoch [    4/   15] | d_loss: 0.6411 | g_loss: 4.0737\n",
      "memory allocated 0.14 Giga-bytes\n",
      "memory allocated 8.52 Giga-bytes\n",
      "Epoch [    4/   15] | d_loss: 0.4898 | g_loss: 2.3674\n",
      "memory allocated 0.14 Giga-bytes\n",
      "memory allocated 8.52 Giga-bytes\n",
      "Epoch [    4/   15] | d_loss: 0.5457 | g_loss: 3.0117\n",
      "memory allocated 0.14 Giga-bytes\n",
      "memory allocated 8.52 Giga-bytes\n",
      "Epoch [    4/   15] | d_loss: 0.7901 | g_loss: 3.3585\n",
      "memory allocated 0.14 Giga-bytes\n",
      "memory allocated 8.52 Giga-bytes\n",
      "Epoch [    4/   15] | d_loss: 0.4602 | g_loss: 4.2408\n",
      "memory allocated 0.14 Giga-bytes\n",
      "memory allocated 8.52 Giga-bytes\n",
      "Epoch [    4/   15] | d_loss: 1.3844 | g_loss: 2.7876\n",
      "memory allocated 0.15 Giga-bytes\n",
      "memory allocated 8.52 Giga-bytes\n",
      "Epoch [    5/   15] | d_loss: 0.8974 | g_loss: 1.6980\n",
      "memory allocated 0.15 Giga-bytes\n",
      "memory allocated 8.52 Giga-bytes\n",
      "Epoch [    5/   15] | d_loss: 0.6185 | g_loss: 3.7142\n",
      "memory allocated 0.15 Giga-bytes\n",
      "memory allocated 8.52 Giga-bytes\n",
      "Epoch [    5/   15] | d_loss: 0.6015 | g_loss: 1.9427\n",
      "memory allocated 0.15 Giga-bytes\n",
      "memory allocated 8.52 Giga-bytes\n",
      "Epoch [    5/   15] | d_loss: 0.7655 | g_loss: 2.2279\n",
      "memory allocated 0.15 Giga-bytes\n",
      "memory allocated 8.52 Giga-bytes\n",
      "Epoch [    5/   15] | d_loss: 0.5883 | g_loss: 2.0557\n",
      "memory allocated 0.15 Giga-bytes\n",
      "memory allocated 8.52 Giga-bytes\n",
      "Epoch [    5/   15] | d_loss: 0.6726 | g_loss: 2.3533\n",
      "memory allocated 0.15 Giga-bytes\n",
      "memory allocated 8.52 Giga-bytes\n",
      "Epoch [    5/   15] | d_loss: 0.6326 | g_loss: 1.9275\n",
      "memory allocated 0.15 Giga-bytes\n",
      "memory allocated 8.52 Giga-bytes\n",
      "Epoch [    5/   15] | d_loss: 0.5958 | g_loss: 2.6133\n",
      "memory allocated 0.15 Giga-bytes\n",
      "memory allocated 8.52 Giga-bytes\n",
      "Epoch [    5/   15] | d_loss: 0.6487 | g_loss: 3.1102\n",
      "memory allocated 0.15 Giga-bytes\n",
      "memory allocated 8.52 Giga-bytes\n",
      "Epoch [    5/   15] | d_loss: 0.4740 | g_loss: 3.3926\n",
      "memory allocated 0.16 Giga-bytes\n",
      "memory allocated 8.52 Giga-bytes\n",
      "Epoch [    6/   15] | d_loss: 0.4843 | g_loss: 2.3821\n",
      "memory allocated 0.16 Giga-bytes\n",
      "memory allocated 8.52 Giga-bytes\n",
      "Epoch [    6/   15] | d_loss: 0.5154 | g_loss: 3.1354\n",
      "memory allocated 0.16 Giga-bytes\n",
      "memory allocated 8.52 Giga-bytes\n",
      "Epoch [    6/   15] | d_loss: 0.5165 | g_loss: 2.9649\n",
      "memory allocated 0.16 Giga-bytes\n",
      "memory allocated 8.52 Giga-bytes\n",
      "Epoch [    6/   15] | d_loss: 0.6905 | g_loss: 1.8598\n",
      "memory allocated 0.16 Giga-bytes\n",
      "memory allocated 8.52 Giga-bytes\n",
      "Epoch [    6/   15] | d_loss: 0.5543 | g_loss: 2.5551\n",
      "memory allocated 0.16 Giga-bytes\n",
      "memory allocated 8.52 Giga-bytes\n",
      "Epoch [    6/   15] | d_loss: 0.8515 | g_loss: 1.5813\n",
      "memory allocated 0.16 Giga-bytes\n",
      "memory allocated 8.52 Giga-bytes\n",
      "Epoch [    6/   15] | d_loss: 0.5049 | g_loss: 2.8371\n",
      "memory allocated 0.16 Giga-bytes\n",
      "memory allocated 8.52 Giga-bytes\n",
      "Epoch [    6/   15] | d_loss: 0.8386 | g_loss: 1.1558\n",
      "memory allocated 0.16 Giga-bytes\n",
      "memory allocated 8.52 Giga-bytes\n",
      "Epoch [    6/   15] | d_loss: 1.8536 | g_loss: 4.1413\n",
      "memory allocated 0.16 Giga-bytes\n",
      "memory allocated 8.52 Giga-bytes\n",
      "Epoch [    6/   15] | d_loss: 1.0831 | g_loss: 1.7506\n",
      "memory allocated 0.17 Giga-bytes\n",
      "memory allocated 8.52 Giga-bytes\n",
      "Epoch [    7/   15] | d_loss: 0.6791 | g_loss: 3.0661\n",
      "memory allocated 0.17 Giga-bytes\n",
      "memory allocated 8.52 Giga-bytes\n",
      "Epoch [    7/   15] | d_loss: 0.5189 | g_loss: 2.9085\n",
      "memory allocated 0.17 Giga-bytes\n",
      "memory allocated 8.52 Giga-bytes\n",
      "Epoch [    7/   15] | d_loss: 0.6186 | g_loss: 2.6423\n",
      "memory allocated 0.17 Giga-bytes\n",
      "memory allocated 8.52 Giga-bytes\n",
      "Epoch [    7/   15] | d_loss: 0.7932 | g_loss: 1.6671\n",
      "memory allocated 0.17 Giga-bytes\n",
      "memory allocated 8.52 Giga-bytes\n",
      "Epoch [    7/   15] | d_loss: 0.6690 | g_loss: 4.0353\n",
      "memory allocated 0.17 Giga-bytes\n",
      "memory allocated 8.52 Giga-bytes\n",
      "Epoch [    7/   15] | d_loss: 0.5924 | g_loss: 2.7951\n",
      "memory allocated 0.17 Giga-bytes\n",
      "memory allocated 8.52 Giga-bytes\n",
      "Epoch [    7/   15] | d_loss: 0.4566 | g_loss: 2.8845\n",
      "memory allocated 0.17 Giga-bytes\n",
      "memory allocated 8.52 Giga-bytes\n",
      "Epoch [    7/   15] | d_loss: 0.5091 | g_loss: 3.7963\n",
      "memory allocated 0.17 Giga-bytes\n",
      "memory allocated 8.52 Giga-bytes\n",
      "Epoch [    7/   15] | d_loss: 0.8071 | g_loss: 0.9912\n",
      "memory allocated 0.17 Giga-bytes\n",
      "memory allocated 8.52 Giga-bytes\n",
      "Epoch [    7/   15] | d_loss: 0.5101 | g_loss: 2.3023\n",
      "memory allocated 0.18 Giga-bytes\n",
      "memory allocated 8.53 Giga-bytes\n",
      "Epoch [    8/   15] | d_loss: 0.5082 | g_loss: 2.6676\n",
      "memory allocated 0.18 Giga-bytes\n",
      "memory allocated 8.53 Giga-bytes\n",
      "Epoch [    8/   15] | d_loss: 0.4322 | g_loss: 2.5781\n",
      "memory allocated 0.18 Giga-bytes\n",
      "memory allocated 8.53 Giga-bytes\n",
      "Epoch [    8/   15] | d_loss: 0.5601 | g_loss: 3.5244\n",
      "memory allocated 0.18 Giga-bytes\n",
      "memory allocated 8.53 Giga-bytes\n",
      "Epoch [    8/   15] | d_loss: 0.4898 | g_loss: 2.6651\n",
      "memory allocated 0.18 Giga-bytes\n",
      "memory allocated 8.53 Giga-bytes\n",
      "Epoch [    8/   15] | d_loss: 0.4344 | g_loss: 3.7310\n",
      "memory allocated 0.18 Giga-bytes\n",
      "memory allocated 8.53 Giga-bytes\n",
      "Epoch [    8/   15] | d_loss: 0.6860 | g_loss: 2.7364\n",
      "memory allocated 0.18 Giga-bytes\n",
      "memory allocated 8.53 Giga-bytes\n",
      "Epoch [    8/   15] | d_loss: 0.5674 | g_loss: 3.0317\n",
      "memory allocated 0.18 Giga-bytes\n",
      "memory allocated 8.53 Giga-bytes\n",
      "Epoch [    8/   15] | d_loss: 0.4023 | g_loss: 3.6231\n",
      "memory allocated 0.18 Giga-bytes\n",
      "memory allocated 8.53 Giga-bytes\n",
      "Epoch [    8/   15] | d_loss: 0.5161 | g_loss: 2.8907\n",
      "memory allocated 0.18 Giga-bytes\n",
      "memory allocated 8.53 Giga-bytes\n",
      "Epoch [    8/   15] | d_loss: 0.6286 | g_loss: 3.6460\n",
      "memory allocated 0.19 Giga-bytes\n",
      "memory allocated 8.53 Giga-bytes\n",
      "Epoch [    9/   15] | d_loss: 0.4912 | g_loss: 2.7276\n",
      "memory allocated 0.19 Giga-bytes\n",
      "memory allocated 8.53 Giga-bytes\n",
      "Epoch [    9/   15] | d_loss: 0.6650 | g_loss: 3.1219\n",
      "memory allocated 0.19 Giga-bytes\n",
      "memory allocated 8.53 Giga-bytes\n",
      "Epoch [    9/   15] | d_loss: 0.7804 | g_loss: 2.0726\n",
      "memory allocated 0.19 Giga-bytes\n",
      "memory allocated 8.53 Giga-bytes\n",
      "Epoch [    9/   15] | d_loss: 0.4623 | g_loss: 3.6176\n",
      "memory allocated 0.19 Giga-bytes\n",
      "memory allocated 8.53 Giga-bytes\n",
      "Epoch [    9/   15] | d_loss: 0.8480 | g_loss: 4.9753\n",
      "memory allocated 0.19 Giga-bytes\n",
      "memory allocated 8.53 Giga-bytes\n",
      "Epoch [    9/   15] | d_loss: 1.7178 | g_loss: 6.7456\n",
      "memory allocated 0.19 Giga-bytes\n",
      "memory allocated 8.53 Giga-bytes\n",
      "Epoch [    9/   15] | d_loss: 0.8464 | g_loss: 3.6706\n",
      "memory allocated 0.19 Giga-bytes\n",
      "memory allocated 8.53 Giga-bytes\n",
      "Epoch [    9/   15] | d_loss: 0.4931 | g_loss: 4.0688\n",
      "memory allocated 0.19 Giga-bytes\n",
      "memory allocated 8.53 Giga-bytes\n",
      "Epoch [    9/   15] | d_loss: 0.5323 | g_loss: 2.7668\n",
      "memory allocated 0.19 Giga-bytes\n",
      "memory allocated 8.53 Giga-bytes\n",
      "Epoch [    9/   15] | d_loss: 0.5915 | g_loss: 2.7122\n",
      "memory allocated 0.20 Giga-bytes\n",
      "memory allocated 8.54 Giga-bytes\n",
      "Epoch [   10/   15] | d_loss: 0.5123 | g_loss: 2.1878\n",
      "memory allocated 0.20 Giga-bytes\n",
      "memory allocated 8.54 Giga-bytes\n",
      "Epoch [   10/   15] | d_loss: 0.4753 | g_loss: 2.5461\n",
      "memory allocated 0.20 Giga-bytes\n",
      "memory allocated 8.54 Giga-bytes\n",
      "Epoch [   10/   15] | d_loss: 0.5061 | g_loss: 3.3162\n",
      "memory allocated 0.20 Giga-bytes\n",
      "memory allocated 8.54 Giga-bytes\n",
      "Epoch [   10/   15] | d_loss: 0.7856 | g_loss: 1.3824\n",
      "memory allocated 0.20 Giga-bytes\n",
      "memory allocated 8.54 Giga-bytes\n",
      "Epoch [   10/   15] | d_loss: 0.4604 | g_loss: 2.9418\n",
      "memory allocated 0.20 Giga-bytes\n",
      "memory allocated 8.54 Giga-bytes\n",
      "Epoch [   10/   15] | d_loss: 0.5030 | g_loss: 2.5758\n",
      "memory allocated 0.20 Giga-bytes\n",
      "memory allocated 8.54 Giga-bytes\n",
      "Epoch [   10/   15] | d_loss: 0.6717 | g_loss: 2.6131\n",
      "memory allocated 0.20 Giga-bytes\n",
      "memory allocated 8.54 Giga-bytes\n",
      "Epoch [   10/   15] | d_loss: 0.6596 | g_loss: 3.8361\n",
      "memory allocated 0.20 Giga-bytes\n",
      "memory allocated 8.54 Giga-bytes\n",
      "Epoch [   10/   15] | d_loss: 0.5992 | g_loss: 3.6201\n",
      "memory allocated 0.20 Giga-bytes\n",
      "memory allocated 8.54 Giga-bytes\n",
      "Epoch [   10/   15] | d_loss: 0.5714 | g_loss: 3.3079\n",
      "memory allocated 0.21 Giga-bytes\n",
      "memory allocated 8.54 Giga-bytes\n",
      "Epoch [   11/   15] | d_loss: 0.4779 | g_loss: 3.7656\n",
      "memory allocated 0.21 Giga-bytes\n",
      "memory allocated 8.54 Giga-bytes\n",
      "Epoch [   11/   15] | d_loss: 0.4503 | g_loss: 2.5153\n",
      "memory allocated 0.21 Giga-bytes\n",
      "memory allocated 8.54 Giga-bytes\n",
      "Epoch [   11/   15] | d_loss: 0.5853 | g_loss: 1.9081\n",
      "memory allocated 0.21 Giga-bytes\n",
      "memory allocated 8.54 Giga-bytes\n",
      "Epoch [   11/   15] | d_loss: 0.5546 | g_loss: 2.9785\n",
      "memory allocated 0.21 Giga-bytes\n",
      "memory allocated 8.54 Giga-bytes\n",
      "Epoch [   11/   15] | d_loss: 0.4590 | g_loss: 3.6001\n",
      "memory allocated 0.21 Giga-bytes\n",
      "memory allocated 8.54 Giga-bytes\n",
      "Epoch [   11/   15] | d_loss: 0.6498 | g_loss: 2.8344\n",
      "memory allocated 0.21 Giga-bytes\n",
      "memory allocated 8.54 Giga-bytes\n",
      "Epoch [   11/   15] | d_loss: 1.0016 | g_loss: 1.0853\n",
      "memory allocated 0.21 Giga-bytes\n",
      "memory allocated 8.54 Giga-bytes\n",
      "Epoch [   11/   15] | d_loss: 0.4703 | g_loss: 3.0217\n",
      "memory allocated 0.21 Giga-bytes\n",
      "memory allocated 8.54 Giga-bytes\n",
      "Epoch [   11/   15] | d_loss: 0.5319 | g_loss: 2.4088\n",
      "memory allocated 0.21 Giga-bytes\n",
      "memory allocated 8.54 Giga-bytes\n",
      "Epoch [   11/   15] | d_loss: 0.7073 | g_loss: 4.0738\n",
      "memory allocated 0.22 Giga-bytes\n",
      "memory allocated 8.54 Giga-bytes\n",
      "Epoch [   12/   15] | d_loss: 1.2141 | g_loss: 6.2242\n",
      "memory allocated 0.22 Giga-bytes\n",
      "memory allocated 8.54 Giga-bytes\n",
      "Epoch [   12/   15] | d_loss: 0.4824 | g_loss: 3.0358\n",
      "memory allocated 0.22 Giga-bytes\n",
      "memory allocated 8.54 Giga-bytes\n",
      "Epoch [   12/   15] | d_loss: 0.8368 | g_loss: 3.3305\n",
      "memory allocated 0.22 Giga-bytes\n",
      "memory allocated 8.54 Giga-bytes\n",
      "Epoch [   12/   15] | d_loss: 0.5199 | g_loss: 2.2213\n",
      "memory allocated 0.22 Giga-bytes\n",
      "memory allocated 8.54 Giga-bytes\n",
      "Epoch [   12/   15] | d_loss: 0.5940 | g_loss: 2.3414\n",
      "memory allocated 0.22 Giga-bytes\n",
      "memory allocated 8.54 Giga-bytes\n",
      "Epoch [   12/   15] | d_loss: 0.6616 | g_loss: 1.4875\n",
      "memory allocated 0.22 Giga-bytes\n",
      "memory allocated 8.54 Giga-bytes\n",
      "Epoch [   12/   15] | d_loss: 0.7237 | g_loss: 3.3404\n",
      "memory allocated 0.22 Giga-bytes\n",
      "memory allocated 8.54 Giga-bytes\n",
      "Epoch [   12/   15] | d_loss: 0.4756 | g_loss: 3.0737\n",
      "memory allocated 0.22 Giga-bytes\n",
      "memory allocated 8.54 Giga-bytes\n",
      "Epoch [   12/   15] | d_loss: 0.4664 | g_loss: 3.3183\n",
      "memory allocated 0.22 Giga-bytes\n",
      "memory allocated 8.54 Giga-bytes\n",
      "Epoch [   12/   15] | d_loss: 0.6409 | g_loss: 2.5546\n",
      "memory allocated 0.23 Giga-bytes\n",
      "memory allocated 8.55 Giga-bytes\n",
      "Epoch [   13/   15] | d_loss: 0.6709 | g_loss: 1.6778\n",
      "memory allocated 0.23 Giga-bytes\n",
      "memory allocated 8.55 Giga-bytes\n",
      "Epoch [   13/   15] | d_loss: 0.4569 | g_loss: 3.3404\n",
      "memory allocated 0.23 Giga-bytes\n",
      "memory allocated 8.55 Giga-bytes\n",
      "Epoch [   13/   15] | d_loss: 0.4010 | g_loss: 2.9539\n",
      "memory allocated 0.23 Giga-bytes\n",
      "memory allocated 8.55 Giga-bytes\n",
      "Epoch [   13/   15] | d_loss: 0.9913 | g_loss: 2.0174\n",
      "memory allocated 0.23 Giga-bytes\n",
      "memory allocated 8.55 Giga-bytes\n",
      "Epoch [   13/   15] | d_loss: 0.4984 | g_loss: 3.0115\n",
      "memory allocated 0.23 Giga-bytes\n",
      "memory allocated 8.55 Giga-bytes\n",
      "Epoch [   13/   15] | d_loss: 0.3959 | g_loss: 4.3805\n",
      "memory allocated 0.23 Giga-bytes\n",
      "memory allocated 8.55 Giga-bytes\n",
      "Epoch [   13/   15] | d_loss: 0.5098 | g_loss: 2.9793\n",
      "memory allocated 0.23 Giga-bytes\n",
      "memory allocated 8.55 Giga-bytes\n",
      "Epoch [   13/   15] | d_loss: 0.4717 | g_loss: 2.9129\n",
      "memory allocated 0.23 Giga-bytes\n",
      "memory allocated 8.55 Giga-bytes\n",
      "Epoch [   13/   15] | d_loss: 0.4531 | g_loss: 3.2957\n",
      "memory allocated 0.23 Giga-bytes\n",
      "memory allocated 8.55 Giga-bytes\n",
      "Epoch [   13/   15] | d_loss: 0.4697 | g_loss: 3.8792\n",
      "memory allocated 0.24 Giga-bytes\n",
      "memory allocated 8.55 Giga-bytes\n",
      "Epoch [   14/   15] | d_loss: 0.4880 | g_loss: 2.2392\n",
      "memory allocated 0.24 Giga-bytes\n",
      "memory allocated 8.55 Giga-bytes\n",
      "Epoch [   14/   15] | d_loss: 0.6558 | g_loss: 2.7265\n",
      "memory allocated 0.24 Giga-bytes\n",
      "memory allocated 8.55 Giga-bytes\n",
      "Epoch [   14/   15] | d_loss: 0.5037 | g_loss: 2.1888\n",
      "memory allocated 0.24 Giga-bytes\n",
      "memory allocated 8.55 Giga-bytes\n",
      "Epoch [   14/   15] | d_loss: 0.9301 | g_loss: 1.4673\n",
      "memory allocated 0.24 Giga-bytes\n",
      "memory allocated 8.55 Giga-bytes\n",
      "Epoch [   14/   15] | d_loss: 0.4764 | g_loss: 2.1890\n",
      "memory allocated 0.24 Giga-bytes\n",
      "memory allocated 8.55 Giga-bytes\n",
      "Epoch [   14/   15] | d_loss: 0.5232 | g_loss: 3.8217\n",
      "memory allocated 0.24 Giga-bytes\n",
      "memory allocated 8.55 Giga-bytes\n",
      "Epoch [   14/   15] | d_loss: 0.4754 | g_loss: 2.8955\n",
      "memory allocated 0.24 Giga-bytes\n",
      "memory allocated 8.55 Giga-bytes\n",
      "Epoch [   14/   15] | d_loss: 0.4775 | g_loss: 3.0900\n",
      "memory allocated 0.24 Giga-bytes\n",
      "memory allocated 8.55 Giga-bytes\n",
      "Epoch [   14/   15] | d_loss: 0.4738 | g_loss: 3.2253\n",
      "memory allocated 0.24 Giga-bytes\n",
      "memory allocated 8.55 Giga-bytes\n",
      "Epoch [   14/   15] | d_loss: 0.4340 | g_loss: 4.2796\n",
      "memory allocated 0.25 Giga-bytes\n",
      "memory allocated 8.56 Giga-bytes\n",
      "Epoch [   15/   15] | d_loss: 0.5253 | g_loss: 4.2969\n",
      "memory allocated 0.25 Giga-bytes\n",
      "memory allocated 8.56 Giga-bytes\n",
      "Epoch [   15/   15] | d_loss: 0.4098 | g_loss: 3.8711\n",
      "memory allocated 0.25 Giga-bytes\n",
      "memory allocated 8.56 Giga-bytes\n",
      "Epoch [   15/   15] | d_loss: 0.4920 | g_loss: 4.0180\n",
      "memory allocated 0.25 Giga-bytes\n",
      "memory allocated 8.56 Giga-bytes\n",
      "Epoch [   15/   15] | d_loss: 0.4174 | g_loss: 2.2501\n",
      "memory allocated 0.25 Giga-bytes\n",
      "memory allocated 8.56 Giga-bytes\n",
      "Epoch [   15/   15] | d_loss: 0.4432 | g_loss: 2.7413\n",
      "memory allocated 0.25 Giga-bytes\n",
      "memory allocated 8.56 Giga-bytes\n",
      "Epoch [   15/   15] | d_loss: 0.5472 | g_loss: 2.0619\n",
      "memory allocated 0.25 Giga-bytes\n",
      "memory allocated 8.56 Giga-bytes\n",
      "Epoch [   15/   15] | d_loss: 0.8707 | g_loss: 2.0627\n",
      "memory allocated 0.25 Giga-bytes\n",
      "memory allocated 8.56 Giga-bytes\n",
      "Epoch [   15/   15] | d_loss: 0.4591 | g_loss: 2.9732\n",
      "memory allocated 0.25 Giga-bytes\n",
      "memory allocated 8.56 Giga-bytes\n",
      "Epoch [   15/   15] | d_loss: 0.8684 | g_loss: 1.0117\n",
      "memory allocated 0.25 Giga-bytes\n",
      "memory allocated 8.56 Giga-bytes\n",
      "Epoch [   15/   15] | d_loss: 0.5118 | g_loss: 2.4278\n"
     ]
    }
   ],
   "source": [
    "# set number of epochs \n",
    "n_epochs = 15\n",
    "\n",
    "\n",
    "\"\"\"\n",
    "DON'T MODIFY ANYTHING IN THIS CELL\n",
    "\"\"\"\n",
    "# call training function\n",
    "losses = train(D, G, n_epochs=n_epochs)"
   ]
  },
  {
   "cell_type": "code",
   "execution_count": 81,
   "metadata": {
    "colab": {
     "base_uri": "https://localhost:8080/",
     "height": 1000
    },
    "colab_type": "code",
    "id": "_dTtnffeyh86",
    "outputId": "92cb45ef-e57d-48d7-89f8-269ae98b2740"
   },
   "outputs": [
    {
     "data": {
      "text/plain": [
       "[(1.4530186653137207, 1.9245853424072266),\n",
       " (1.356937050819397, 2.4336323738098145),\n",
       " (1.2983198165893555, 0.7751737236976624),\n",
       " (1.1217951774597168, 1.43656587600708),\n",
       " (1.007455825805664, 1.6912825107574463),\n",
       " (1.143156886100769, 1.1758581399917603),\n",
       " (1.162329912185669, 1.0325596332550049),\n",
       " (0.9746667146682739, 0.9751726388931274),\n",
       " (0.9104467034339905, 1.9416780471801758),\n",
       " (1.1182186603546143, 2.557372570037842),\n",
       " (1.3319520950317383, 2.385239601135254),\n",
       " (0.8695579767227173, 1.8250254392623901),\n",
       " (0.7480976581573486, 1.7690932750701904),\n",
       " (1.0317273139953613, 2.53480863571167),\n",
       " (0.5613652467727661, 2.635560989379883),\n",
       " (1.013310194015503, 3.0024657249450684),\n",
       " (0.7367531061172485, 2.9103972911834717),\n",
       " (0.7245504856109619, 1.5311496257781982),\n",
       " (0.7589917778968811, 2.1621944904327393),\n",
       " (0.4751863181591034, 2.9940402507781982),\n",
       " (0.7448835372924805, 3.842421293258667),\n",
       " (0.41640138626098633, 4.827420234680176),\n",
       " (0.9412519931793213, 1.951826572418213),\n",
       " (0.7743557691574097, 2.2865641117095947),\n",
       " (0.6570479273796082, 1.9768462181091309),\n",
       " (0.42722058296203613, 3.409078598022461),\n",
       " (0.7067107558250427, 2.1882104873657227),\n",
       " (0.8443441987037659, 2.735574245452881),\n",
       " (0.5513323545455933, 3.1914572715759277),\n",
       " (0.48121505975723267, 2.170393705368042),\n",
       " (0.7891722917556763, 2.442824363708496),\n",
       " (0.8824335932731628, 4.438936233520508),\n",
       " (0.5046760439872742, 2.3737826347351074),\n",
       " (1.3317631483078003, 3.1551148891448975),\n",
       " (0.6411003470420837, 4.073721885681152),\n",
       " (0.4898199439048767, 2.3673505783081055),\n",
       " (0.5456980466842651, 3.0116844177246094),\n",
       " (0.7901076674461365, 3.3585119247436523),\n",
       " (0.46017986536026, 4.240811824798584),\n",
       " (1.3844386339187622, 2.787595748901367),\n",
       " (0.8973897099494934, 1.6979868412017822),\n",
       " (0.6185276508331299, 3.7142086029052734),\n",
       " (0.6014978885650635, 1.9426966905593872),\n",
       " (0.7654990553855896, 2.2278671264648438),\n",
       " (0.5882978439331055, 2.0557303428649902),\n",
       " (0.6725608110427856, 2.3533005714416504),\n",
       " (0.6325947046279907, 1.9275126457214355),\n",
       " (0.595798134803772, 2.613302230834961),\n",
       " (0.648741602897644, 3.110205888748169),\n",
       " (0.4740144610404968, 3.3926126956939697),\n",
       " (0.48434436321258545, 2.3821423053741455),\n",
       " (0.5153803825378418, 3.13539981842041),\n",
       " (0.5165420770645142, 2.9648935794830322),\n",
       " (0.6905378699302673, 1.8598194122314453),\n",
       " (0.5543317794799805, 2.5551280975341797),\n",
       " (0.8515154123306274, 1.58126699924469),\n",
       " (0.5048971176147461, 2.837073564529419),\n",
       " (0.8386179804801941, 1.1558445692062378),\n",
       " (1.8535699844360352, 4.141274929046631),\n",
       " (1.0830719470977783, 1.7505879402160645),\n",
       " (0.6791098117828369, 3.0661044120788574),\n",
       " (0.5189036130905151, 2.908538818359375),\n",
       " (0.6185836791992188, 2.642324447631836),\n",
       " (0.7932057976722717, 1.667098045349121),\n",
       " (0.6689577102661133, 4.035343170166016),\n",
       " (0.5923773050308228, 2.7950592041015625),\n",
       " (0.4566013813018799, 2.8845467567443848),\n",
       " (0.5090686678886414, 3.7963223457336426),\n",
       " (0.8071306943893433, 0.9911988377571106),\n",
       " (0.5100792050361633, 2.302335739135742),\n",
       " (0.5081742405891418, 2.6676206588745117),\n",
       " (0.43218860030174255, 2.578120708465576),\n",
       " (0.5601058006286621, 3.5243520736694336),\n",
       " (0.48977652192115784, 2.665069580078125),\n",
       " (0.43444857001304626, 3.730989933013916),\n",
       " (0.6860380172729492, 2.7364015579223633),\n",
       " (0.5674289464950562, 3.031683921813965),\n",
       " (0.4023062288761139, 3.623086929321289),\n",
       " (0.5160608291625977, 2.890657901763916),\n",
       " (0.6286344528198242, 3.645993232727051),\n",
       " (0.4911743700504303, 2.7276034355163574),\n",
       " (0.6650153994560242, 3.1219353675842285),\n",
       " (0.7804403305053711, 2.0725905895233154),\n",
       " (0.4623301029205322, 3.6175789833068848),\n",
       " (0.8480056524276733, 4.975327491760254),\n",
       " (1.7177631855010986, 6.745552062988281),\n",
       " (0.8463871479034424, 3.6705713272094727),\n",
       " (0.4930899143218994, 4.068819046020508),\n",
       " (0.5322571396827698, 2.7668046951293945),\n",
       " (0.5915400981903076, 2.7122159004211426),\n",
       " (0.512290358543396, 2.187788486480713),\n",
       " (0.47530752420425415, 2.546107769012451),\n",
       " (0.5060925483703613, 3.316215991973877),\n",
       " (0.7855803370475769, 1.382417917251587),\n",
       " (0.46040621399879456, 2.941803216934204),\n",
       " (0.5030320882797241, 2.5757832527160645),\n",
       " (0.6716916561126709, 2.613050699234009),\n",
       " (0.6596299409866333, 3.8360819816589355),\n",
       " (0.5991702079772949, 3.62013578414917),\n",
       " (0.5714238882064819, 3.3079094886779785),\n",
       " (0.477851003408432, 3.76564884185791),\n",
       " (0.45032623410224915, 2.5153238773345947),\n",
       " (0.5852922201156616, 1.9080989360809326),\n",
       " (0.5546498894691467, 2.978520631790161),\n",
       " (0.4589634835720062, 3.600104331970215),\n",
       " (0.6498317122459412, 2.834402322769165),\n",
       " (1.001551866531372, 1.0853453874588013),\n",
       " (0.4703291356563568, 3.021737575531006),\n",
       " (0.531859278678894, 2.408818244934082),\n",
       " (0.7073383331298828, 4.073843479156494),\n",
       " (1.2141036987304688, 6.224186420440674),\n",
       " (0.4824346601963043, 3.035789728164673),\n",
       " (0.8367682695388794, 3.3304641246795654),\n",
       " (0.5199236869812012, 2.221278429031372),\n",
       " (0.5939767360687256, 2.341414213180542),\n",
       " (0.661639928817749, 1.487534761428833),\n",
       " (0.7237473726272583, 3.3403828144073486),\n",
       " (0.47561314702033997, 3.073660373687744),\n",
       " (0.46637582778930664, 3.318251609802246),\n",
       " (0.6408740282058716, 2.5546295642852783),\n",
       " (0.6708717346191406, 1.6777870655059814),\n",
       " (0.4568866193294525, 3.3403773307800293),\n",
       " (0.400973916053772, 2.9538633823394775),\n",
       " (0.9913427829742432, 2.0173909664154053),\n",
       " (0.4983806610107422, 3.011503219604492),\n",
       " (0.39586251974105835, 4.380485534667969),\n",
       " (0.5097894072532654, 2.979323148727417),\n",
       " (0.4716503918170929, 2.9128503799438477),\n",
       " (0.4531160593032837, 3.295747756958008),\n",
       " (0.4697256088256836, 3.879197359085083),\n",
       " (0.48796993494033813, 2.2391672134399414),\n",
       " (0.6558409929275513, 2.7264766693115234),\n",
       " (0.5037206411361694, 2.18882155418396),\n",
       " (0.9300997257232666, 1.467253565788269),\n",
       " (0.4764114320278168, 2.1890196800231934),\n",
       " (0.5232434272766113, 3.8217296600341797),\n",
       " (0.47544780373573303, 2.895522117614746),\n",
       " (0.4775348901748657, 3.0899877548217773),\n",
       " (0.4738069772720337, 3.2253165245056152),\n",
       " (0.4340357482433319, 4.279646873474121),\n",
       " (0.5252588987350464, 4.2968668937683105),\n",
       " (0.4098127484321594, 3.8710684776306152),\n",
       " (0.49201270937919617, 4.018016338348389),\n",
       " (0.41740959882736206, 2.2501420974731445),\n",
       " (0.44318148493766785, 2.741250514984131),\n",
       " (0.5472071170806885, 2.0619099140167236),\n",
       " (0.8707257509231567, 2.062674045562744),\n",
       " (0.4591194987297058, 2.9732415676116943),\n",
       " (0.8684263229370117, 1.0117117166519165),\n",
       " (0.5118278861045837, 2.4277820587158203)]"
      ]
     },
     "execution_count": 81,
     "metadata": {
      "tags": []
     },
     "output_type": "execute_result"
    }
   ],
   "source": [
    "losses"
   ]
  },
  {
   "cell_type": "code",
   "execution_count": 82,
   "metadata": {
    "colab": {
     "base_uri": "https://localhost:8080/",
     "height": 35
    },
    "colab_type": "code",
    "id": "SWDpY297yh88",
    "outputId": "9c9c0875-ebc0-4b16-fa59-9c6e7c68697e"
   },
   "outputs": [
    {
     "name": "stdout",
     "output_type": "stream",
     "text": [
      "<function memory_cached at 0x7f3ea6098c80>\n"
     ]
    }
   ],
   "source": [
    "print(torch.cuda.memory_cached)"
   ]
  },
  {
   "cell_type": "markdown",
   "metadata": {
    "colab_type": "text",
    "collapsed": true,
    "id": "91A5gT3Jyh89"
   },
   "source": [
    "## Training loss\n",
    "\n",
    "Plot the training losses for the generator and discriminator, recorded after each epoch."
   ]
  },
  {
   "cell_type": "code",
   "execution_count": 83,
   "metadata": {
    "colab": {
     "base_uri": "https://localhost:8080/",
     "height": 298
    },
    "colab_type": "code",
    "id": "oIe9C9BLyh89",
    "outputId": "304293ae-03cb-41ad-8cb4-30c08cc8ae9c"
   },
   "outputs": [
    {
     "data": {
      "text/plain": [
       "<matplotlib.legend.Legend at 0x7f3ea4cbda20>"
      ]
     },
     "execution_count": 83,
     "metadata": {
      "tags": []
     },
     "output_type": "execute_result"
    },
    {
     "data": {
      "image/png": "[encoded data removed]",
      "text/plain": [
       "<Figure size 432x288 with 1 Axes>"
      ]
     },
     "metadata": {
      "tags": []
     },
     "output_type": "display_data"
    }
   ],
   "source": [
    "fig, ax = plt.subplots()\n",
    "losses = np.array(losses)\n",
    "plt.plot(losses.T[0], label='Discriminator', alpha=0.5)\n",
    "plt.plot(losses.T[1], label='Generator', alpha=0.5)\n",
    "plt.title(\"Training Losses\")\n",
    "plt.legend()"
   ]
  },
  {
   "cell_type": "markdown",
   "metadata": {
    "colab_type": "text",
    "collapsed": true,
    "id": "dSzl0S4Wyh8_"
   },
   "source": [
    "## Generator samples from training\n",
    "\n",
    "View samples of images from the generator, and answer a question about the strengths and weaknesses of your trained models."
   ]
  },
  {
   "cell_type": "code",
   "execution_count": 0,
   "metadata": {
    "colab": {},
    "colab_type": "code",
    "id": "z9v99Px0yh8_"
   },
   "outputs": [],
   "source": [
    "# helper function for viewing a list of passed in sample images\n",
    "def view_samples(epoch, samples):\n",
    "    fig, axes = plt.subplots(figsize=(16,4), nrows=2, ncols=8, sharey=True, sharex=True)\n",
    "    for ax, img in zip(axes.flatten(), samples[epoch]):\n",
    "        img = img.detach().cpu().numpy()\n",
    "        img = np.transpose(img, (1, 2, 0))\n",
    "        img = ((img + 1)*255 / (2)).astype(np.uint8)\n",
    "        ax.xaxis.set_visible(False)\n",
    "        ax.yaxis.set_visible(False)\n",
    "        im = ax.imshow(img.reshape((32,32,3)))"
   ]
  },
  {
   "cell_type": "code",
   "execution_count": 0,
   "metadata": {
    "colab": {},
    "colab_type": "code",
    "id": "rVbKSnBuyh9A"
   },
   "outputs": [],
   "source": [
    "# Load samples from generator, taken while training\n",
    "with open('train_samples.pkl', 'rb') as f:\n",
    "    samples = pkl.load(f)"
   ]
  },
  {
   "cell_type": "code",
   "execution_count": 86,
   "metadata": {
    "colab": {
     "base_uri": "https://localhost:8080/",
     "height": 244
    },
    "colab_type": "code",
    "id": "EJntJiz3yh9C",
    "outputId": "4914ee0c-3ddf-4ca1-f445-fd0cbdd795e2"
   },
   "outputs": [
    {
     "data": {
      "image/png": "[encoded data removed]",
      "text/plain": [
       "<Figure size 1152x288 with 16 Axes>"
      ]
     },
     "metadata": {
      "tags": []
     },
     "output_type": "display_data"
    }
   ],
   "source": [
    "_ = view_samples(-1, samples)"
   ]
  },
  {
   "cell_type": "markdown",
   "metadata": {
    "colab_type": "text",
    "id": "oA7ZaDa4yh9E"
   },
   "source": [
    "### Question: What do you notice about your generated samples and how might you improve this model?\n",
    "When you answer this question, consider the following factors:\n",
    "* The dataset is biased; it is made of \"celebrity\" faces that are mostly white\n",
    "* Model size; larger models have the opportunity to learn more features in a data feature space\n",
    "* Optimization strategy; optimizers and number of epochs affect your final result\n"
   ]
  },
  {
   "cell_type": "markdown",
   "metadata": {
    "colab_type": "text",
    "id": "2brkwa3Zyh9E"
   },
   "source": [
    "**Answer:** (Write your answer in this cell)\n",
    "\n",
    "Add faces of different colour. Model could include dropout and perhaps a residual component in the convolutional networks. "
   ]
  },
  {
   "cell_type": "markdown",
   "metadata": {
    "colab_type": "text",
    "id": "_jm0Y5_eyh9F"
   },
   "source": [
    "### Submitting This Project\n",
    "When submitting this project, make sure to run all the cells before saving the notebook. Save the notebook file as \"dlnd_face_generation.ipynb\" and save it as a HTML file under \"File\" -> \"Download as\". Include the \"problem_unittests.py\" files in your submission."
   ]
  }
 ],
 "metadata": {
  "accelerator": "GPU",
  "colab": {
   "collapsed_sections": [],
   "name": "dlnd_face_generation.ipynb",
   "provenance": []
  },
  "kernelspec": {
   "display_name": "Python 3",
   "language": "python",
   "name": "python3"
  },
  "language_info": {
   "codemirror_mode": {
    "name": "ipython",
    "version": 3
   },
   "file_extension": ".py",
   "mimetype": "text/x-python",
   "name": "python",
   "nbconvert_exporter": "python",
   "pygments_lexer": "ipython3",
   "version": "3.6.8"
  }
 },
 "nbformat": 4,
 "nbformat_minor": 1
}
